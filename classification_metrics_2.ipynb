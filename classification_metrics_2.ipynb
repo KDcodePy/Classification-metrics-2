{
 "cells": [
  {
   "attachments": {},
   "cell_type": "markdown",
   "metadata": {},
   "source": [
    "# Classification Metrics 2 \n",
    "Author: Kim Hazed Delfino"
   ]
  },
  {
   "attachments": {},
   "cell_type": "markdown",
   "metadata": {},
   "source": [
    "# Imports "
   ]
  },
  {
   "cell_type": "code",
   "execution_count": 141,
   "metadata": {},
   "outputs": [],
   "source": [
    "import pandas as pd\n",
    "import numpy as np\n",
    "# Libs for plots\n",
    "import matplotlib.pyplot as plt\n",
    "import seaborn as sns\n",
    "# Necessary libs \n",
    "from sklearn.model_selection import train_test_split , GridSearchCV\n",
    "from sklearn.preprocessing import StandardScaler\n",
    "from sklearn.pipeline import make_pipeline\n",
    "\n",
    "# Models\n",
    "from sklearn.linear_model import LogisticRegression\n",
    "# Metrics\n",
    "from sklearn.metrics import accuracy_score, precision_score, classification_report\n",
    "from sklearn.metrics import confusion_matrix, ConfusionMatrixDisplay\n",
    "from sklearn.metrics import roc_auc_score, RocCurveDisplay\n"
   ]
  },
  {
   "attachments": {},
   "cell_type": "markdown",
   "metadata": {},
   "source": [
    "## Load the Data"
   ]
  },
  {
   "cell_type": "code",
   "execution_count": 142,
   "metadata": {},
   "outputs": [],
   "source": [
    "path = r\"C:\\Users\\kdelfino\\Documents\\GitHub\\Classification_metrics_2\\bank_modified.csv\"\n",
    "df = pd.read_csv(path)"
   ]
  },
  {
   "attachments": {},
   "cell_type": "markdown",
   "metadata": {},
   "source": [
    "## Exploratory Data Analysis"
   ]
  },
  {
   "cell_type": "code",
   "execution_count": 143,
   "metadata": {},
   "outputs": [
    {
     "name": "stdout",
     "output_type": "stream",
     "text": [
      "<class 'pandas.core.frame.DataFrame'>\n",
      "RangeIndex: 4521 entries, 0 to 4520\n",
      "Data columns (total 26 columns):\n",
      " #   Column               Non-Null Count  Dtype\n",
      "---  ------               --------------  -----\n",
      " 0   age                  4521 non-null   int64\n",
      " 1   balance              4521 non-null   int64\n",
      " 2   duration             4521 non-null   int64\n",
      " 3   campaign             4521 non-null   int64\n",
      " 4   pdays                4521 non-null   int64\n",
      " 5   previous             4521 non-null   int64\n",
      " 6   job_blue-collar      4521 non-null   int64\n",
      " 7   job_entrepreneur     4521 non-null   int64\n",
      " 8   job_housemaid        4521 non-null   int64\n",
      " 9   job_management       4521 non-null   int64\n",
      " 10  job_retired          4521 non-null   int64\n",
      " 11  job_self-employed    4521 non-null   int64\n",
      " 12  job_services         4521 non-null   int64\n",
      " 13  job_student          4521 non-null   int64\n",
      " 14  job_technician       4521 non-null   int64\n",
      " 15  job_unemployed       4521 non-null   int64\n",
      " 16  job_unknown          4521 non-null   int64\n",
      " 17  marital_married      4521 non-null   int64\n",
      " 18  marital_single       4521 non-null   int64\n",
      " 19  education_secondary  4521 non-null   int64\n",
      " 20  education_tertiary   4521 non-null   int64\n",
      " 21  education_unknown    4521 non-null   int64\n",
      " 22  default_yes          4521 non-null   int64\n",
      " 23  housing_yes          4521 non-null   int64\n",
      " 24  loan_yes             4521 non-null   int64\n",
      " 25  y_yes                4521 non-null   int64\n",
      "dtypes: int64(26)\n",
      "memory usage: 918.5 KB\n"
     ]
    }
   ],
   "source": [
    "df.info()"
   ]
  },
  {
   "cell_type": "code",
   "execution_count": 144,
   "metadata": {},
   "outputs": [
    {
     "data": {
      "text/html": [
       "<div>\n",
       "<style scoped>\n",
       "    .dataframe tbody tr th:only-of-type {\n",
       "        vertical-align: middle;\n",
       "    }\n",
       "\n",
       "    .dataframe tbody tr th {\n",
       "        vertical-align: top;\n",
       "    }\n",
       "\n",
       "    .dataframe thead th {\n",
       "        text-align: right;\n",
       "    }\n",
       "</style>\n",
       "<table border=\"1\" class=\"dataframe\">\n",
       "  <thead>\n",
       "    <tr style=\"text-align: right;\">\n",
       "      <th></th>\n",
       "      <th>age</th>\n",
       "      <th>balance</th>\n",
       "      <th>duration</th>\n",
       "      <th>campaign</th>\n",
       "      <th>pdays</th>\n",
       "      <th>previous</th>\n",
       "      <th>job_blue-collar</th>\n",
       "      <th>job_entrepreneur</th>\n",
       "      <th>job_housemaid</th>\n",
       "      <th>job_management</th>\n",
       "      <th>...</th>\n",
       "      <th>job_unknown</th>\n",
       "      <th>marital_married</th>\n",
       "      <th>marital_single</th>\n",
       "      <th>education_secondary</th>\n",
       "      <th>education_tertiary</th>\n",
       "      <th>education_unknown</th>\n",
       "      <th>default_yes</th>\n",
       "      <th>housing_yes</th>\n",
       "      <th>loan_yes</th>\n",
       "      <th>y_yes</th>\n",
       "    </tr>\n",
       "  </thead>\n",
       "  <tbody>\n",
       "    <tr>\n",
       "      <th>0</th>\n",
       "      <td>30</td>\n",
       "      <td>1787</td>\n",
       "      <td>79</td>\n",
       "      <td>1</td>\n",
       "      <td>-1</td>\n",
       "      <td>0</td>\n",
       "      <td>0</td>\n",
       "      <td>0</td>\n",
       "      <td>0</td>\n",
       "      <td>0</td>\n",
       "      <td>...</td>\n",
       "      <td>0</td>\n",
       "      <td>1</td>\n",
       "      <td>0</td>\n",
       "      <td>0</td>\n",
       "      <td>0</td>\n",
       "      <td>0</td>\n",
       "      <td>0</td>\n",
       "      <td>0</td>\n",
       "      <td>0</td>\n",
       "      <td>0</td>\n",
       "    </tr>\n",
       "    <tr>\n",
       "      <th>1</th>\n",
       "      <td>33</td>\n",
       "      <td>4789</td>\n",
       "      <td>220</td>\n",
       "      <td>1</td>\n",
       "      <td>339</td>\n",
       "      <td>4</td>\n",
       "      <td>0</td>\n",
       "      <td>0</td>\n",
       "      <td>0</td>\n",
       "      <td>0</td>\n",
       "      <td>...</td>\n",
       "      <td>0</td>\n",
       "      <td>1</td>\n",
       "      <td>0</td>\n",
       "      <td>1</td>\n",
       "      <td>0</td>\n",
       "      <td>0</td>\n",
       "      <td>0</td>\n",
       "      <td>1</td>\n",
       "      <td>1</td>\n",
       "      <td>0</td>\n",
       "    </tr>\n",
       "    <tr>\n",
       "      <th>2</th>\n",
       "      <td>35</td>\n",
       "      <td>1350</td>\n",
       "      <td>185</td>\n",
       "      <td>1</td>\n",
       "      <td>330</td>\n",
       "      <td>1</td>\n",
       "      <td>0</td>\n",
       "      <td>0</td>\n",
       "      <td>0</td>\n",
       "      <td>1</td>\n",
       "      <td>...</td>\n",
       "      <td>0</td>\n",
       "      <td>0</td>\n",
       "      <td>1</td>\n",
       "      <td>0</td>\n",
       "      <td>1</td>\n",
       "      <td>0</td>\n",
       "      <td>0</td>\n",
       "      <td>1</td>\n",
       "      <td>0</td>\n",
       "      <td>0</td>\n",
       "    </tr>\n",
       "    <tr>\n",
       "      <th>3</th>\n",
       "      <td>30</td>\n",
       "      <td>1476</td>\n",
       "      <td>199</td>\n",
       "      <td>4</td>\n",
       "      <td>-1</td>\n",
       "      <td>0</td>\n",
       "      <td>0</td>\n",
       "      <td>0</td>\n",
       "      <td>0</td>\n",
       "      <td>1</td>\n",
       "      <td>...</td>\n",
       "      <td>0</td>\n",
       "      <td>1</td>\n",
       "      <td>0</td>\n",
       "      <td>0</td>\n",
       "      <td>1</td>\n",
       "      <td>0</td>\n",
       "      <td>0</td>\n",
       "      <td>1</td>\n",
       "      <td>1</td>\n",
       "      <td>0</td>\n",
       "    </tr>\n",
       "    <tr>\n",
       "      <th>4</th>\n",
       "      <td>59</td>\n",
       "      <td>0</td>\n",
       "      <td>226</td>\n",
       "      <td>1</td>\n",
       "      <td>-1</td>\n",
       "      <td>0</td>\n",
       "      <td>1</td>\n",
       "      <td>0</td>\n",
       "      <td>0</td>\n",
       "      <td>0</td>\n",
       "      <td>...</td>\n",
       "      <td>0</td>\n",
       "      <td>1</td>\n",
       "      <td>0</td>\n",
       "      <td>1</td>\n",
       "      <td>0</td>\n",
       "      <td>0</td>\n",
       "      <td>0</td>\n",
       "      <td>1</td>\n",
       "      <td>0</td>\n",
       "      <td>0</td>\n",
       "    </tr>\n",
       "  </tbody>\n",
       "</table>\n",
       "<p>5 rows × 26 columns</p>\n",
       "</div>"
      ],
      "text/plain": [
       "   age  balance  duration  campaign  pdays  previous  job_blue-collar  \\\n",
       "0   30     1787        79         1     -1         0                0   \n",
       "1   33     4789       220         1    339         4                0   \n",
       "2   35     1350       185         1    330         1                0   \n",
       "3   30     1476       199         4     -1         0                0   \n",
       "4   59        0       226         1     -1         0                1   \n",
       "\n",
       "   job_entrepreneur  job_housemaid  job_management  ...  job_unknown  \\\n",
       "0                 0              0               0  ...            0   \n",
       "1                 0              0               0  ...            0   \n",
       "2                 0              0               1  ...            0   \n",
       "3                 0              0               1  ...            0   \n",
       "4                 0              0               0  ...            0   \n",
       "\n",
       "   marital_married  marital_single  education_secondary  education_tertiary  \\\n",
       "0                1               0                    0                   0   \n",
       "1                1               0                    1                   0   \n",
       "2                0               1                    0                   1   \n",
       "3                1               0                    0                   1   \n",
       "4                1               0                    1                   0   \n",
       "\n",
       "   education_unknown  default_yes  housing_yes  loan_yes  y_yes  \n",
       "0                  0            0            0         0      0  \n",
       "1                  0            0            1         1      0  \n",
       "2                  0            0            1         0      0  \n",
       "3                  0            0            1         1      0  \n",
       "4                  0            0            1         0      0  \n",
       "\n",
       "[5 rows x 26 columns]"
      ]
     },
     "execution_count": 144,
     "metadata": {},
     "output_type": "execute_result"
    }
   ],
   "source": [
    "df.head()"
   ]
  },
  {
   "cell_type": "code",
   "execution_count": 145,
   "metadata": {},
   "outputs": [
    {
     "data": {
      "text/plain": [
       "0"
      ]
     },
     "execution_count": 145,
     "metadata": {},
     "output_type": "execute_result"
    }
   ],
   "source": [
    "# Check for duplites in our dataset\n",
    "df.duplicated().sum()"
   ]
  },
  {
   "attachments": {},
   "cell_type": "markdown",
   "metadata": {},
   "source": [
    "## Assign Feature Matrices and Target Vector"
   ]
  },
  {
   "cell_type": "code",
   "execution_count": 146,
   "metadata": {},
   "outputs": [
    {
     "data": {
      "text/plain": [
       "0    4000\n",
       "1     521\n",
       "Name: y_yes, dtype: int64"
      ]
     },
     "execution_count": 146,
     "metadata": {},
     "output_type": "execute_result"
    }
   ],
   "source": [
    "# Train test split\n",
    "X = df.drop(columns=\"y_yes\")\n",
    "y = df[\"y_yes\"]\n",
    "\n",
    "X_train , X_test , y_train , y_test = train_test_split(X, y, random_state=42)\n",
    "y.value_counts()"
   ]
  },
  {
   "attachments": {},
   "cell_type": "markdown",
   "metadata": {},
   "source": [
    "- Looks like our target dataset is imbalanced by quite a lot "
   ]
  },
  {
   "attachments": {},
   "cell_type": "markdown",
   "metadata": {},
   "source": [
    "### Custom Class to Instantiate Model and Create Reports/Visuals"
   ]
  },
  {
   "cell_type": "code",
   "execution_count": 147,
   "metadata": {},
   "outputs": [],
   "source": [
    "class ClfMetrics:\n",
    "    def __init__(self, model, X_train, X_test, y_train, y_test, \n",
    "                 labels):\n",
    "        self.model = model\n",
    "        self.X_train = X_train\n",
    "        self.X_test = X_test\n",
    "        self.y_train = y_train\n",
    "        self.y_test = y_test \n",
    "        self.labels = labels\n",
    "\n",
    "        # Train model \n",
    "        scaler = StandardScaler()\n",
    "        self.model_pipe = make_pipeline(scaler,model)\n",
    "        self.model_pipe.fit(X_train,y_train)\n",
    "        # set hyperparams \n",
    "        self.show_params = self.model_pipe.get_params()\n",
    "        # set prediction\n",
    "        self.model_train_pred = self.model_pipe.predict(X_train)\n",
    "        self.model_test_pred = self.model_pipe.predict(X_test)\n",
    "        # set classfication report\n",
    "        self.train_dt_report = classification_report(y_train,self.model_train_pred,\n",
    "                                                target_names=labels)\n",
    "        self.test_dt_report = classification_report(y_test, self.model_test_pred,\n",
    "                                            target_names=labels)\n",
    "        self.tn, self.fp, self.fn, self.tp = confusion_matrix(self.y_test, self.model_test_pred).ravel()\n",
    "        self.sensitivity = self.tp / (self.tp/self.fn)\n",
    "        self.specificity = self.tn / (self.tn/self.fp)\n",
    "\n",
    "    # Display Confusion Report \n",
    "    def get_report(self):\n",
    "        report = f\"\"\"{self.model} Train Metric Scores: \\n {self.train_dt_report} \\n\n",
    "        {self.model} Test Metric Scores: \\n {self.test_dt_report}\n",
    "        Sensitivitiy = {self.sensitivity}%\n",
    "        Specificity = {self.specificity}% \"\"\"\n",
    "        return print(report)\n",
    "\n",
    "    def get_visuals(self, normalize = None):\n",
    "\n",
    "\n",
    "        # Display Confusion Matrix\n",
    "        fig, axes = plt.subplots(ncols= 2, figsize=(10,5))\n",
    "        ConfusionMatrixDisplay.from_predictions(self.y_train, \n",
    "                                                self.model_train_pred,\n",
    "                                                ax=axes[0],\n",
    "                                                cmap=\"Blues\",\n",
    "                                                normalize=normalize)\n",
    "        axes[0].set_title(\"Train CM\")\n",
    "          \n",
    "        ConfusionMatrixDisplay.from_predictions(self.y_test, \n",
    "                                                self.model_test_pred,\n",
    "                                                ax=axes[1],\n",
    "                                                cmap=\"Reds\",\n",
    "                                                normalize=normalize)\n",
    "        axes[1].set_title(\"Test CM\")\n",
    "        \n",
    "        return plt.show()\n",
    "        \n",
    "    def run_gs(self,param_matrix:dict) -> dict:\n",
    "        self.gs_pipe = GridSearchCV(self.model_pipe,param_matrix)\n",
    "        self.gs_pipe.fit(X_train, y_train)\n",
    "        print(f\"Testing Accuracy : {round(self.gs_pipe.best_estimator_.score(X_test,y_test)*100,2)}\")\n",
    "        print(f\"Training Accuracy : {round(self.gs_pipe.best_estimator_.score(X_train,y_train)*100,2)}\")\n",
    "        print(self.model)\n",
    "        self.test_proba = self.gs_pipe.predict_proba(X_test)[:,1]\n",
    "        \n",
    "        return self.gs_pipe.best_params_\n",
    "    \n",
    "    def show_roc(self):\n",
    "        print(f\"ROC AUC score : {roc_auc_score(self.y_test,self.test_proba)}\")\n",
    "        return RocCurveDisplay.from_predictions(self.y_test, self.test_proba)\n"
   ]
  },
  {
   "attachments": {},
   "cell_type": "markdown",
   "metadata": {},
   "source": [
    "## Logistic Regression"
   ]
  },
  {
   "cell_type": "code",
   "execution_count": 148,
   "metadata": {},
   "outputs": [],
   "source": [
    "#set labels for report\n",
    "labels = [\"No\", \"Yes\"]\n",
    "\n",
    "# Instantiate LR model\n",
    "lr =  ClfMetrics(LogisticRegression(solver=\"liblinear\"), \n",
    "                 X_train, X_test, y_train , y_test, labels)"
   ]
  },
  {
   "cell_type": "code",
   "execution_count": 149,
   "metadata": {},
   "outputs": [
    {
     "name": "stdout",
     "output_type": "stream",
     "text": [
      "LogisticRegression(solver='liblinear') Train Metric Scores: \n",
      "               precision    recall  f1-score   support\n",
      "\n",
      "          No       0.90      0.98      0.94      2994\n",
      "         Yes       0.58      0.20      0.30       396\n",
      "\n",
      "    accuracy                           0.89      3390\n",
      "   macro avg       0.74      0.59      0.62      3390\n",
      "weighted avg       0.86      0.89      0.87      3390\n",
      " \n",
      "\n",
      "        LogisticRegression(solver='liblinear') Test Metric Scores: \n",
      "               precision    recall  f1-score   support\n",
      "\n",
      "          No       0.92      0.98      0.95      1006\n",
      "         Yes       0.60      0.27      0.37       125\n",
      "\n",
      "    accuracy                           0.90      1131\n",
      "   macro avg       0.76      0.62      0.66      1131\n",
      "weighted avg       0.88      0.90      0.88      1131\n",
      "\n",
      "        Sensitivitiy = 91.0%\n",
      "        Specificity = 23.0% \n"
     ]
    }
   ],
   "source": [
    "lr.get_report()"
   ]
  },
  {
   "cell_type": "code",
   "execution_count": 150,
   "metadata": {},
   "outputs": [
    {
     "data": {
      "image/png": "[encoded data removed]",
      "text/plain": [
       "<Figure size 1000x500 with 4 Axes>"
      ]
     },
     "metadata": {},
     "output_type": "display_data"
    }
   ],
   "source": [
    "lr.get_visuals()"
   ]
  },
  {
   "cell_type": "code",
   "execution_count": 151,
   "metadata": {},
   "outputs": [
    {
     "data": {
      "text/plain": [
       "{'memory': None,\n",
       " 'steps': [('standardscaler', StandardScaler()),\n",
       "  ('logisticregression', LogisticRegression(solver='liblinear'))],\n",
       " 'verbose': False,\n",
       " 'standardscaler': StandardScaler(),\n",
       " 'logisticregression': LogisticRegression(solver='liblinear'),\n",
       " 'standardscaler__copy': True,\n",
       " 'standardscaler__with_mean': True,\n",
       " 'standardscaler__with_std': True,\n",
       " 'logisticregression__C': 1.0,\n",
       " 'logisticregression__class_weight': None,\n",
       " 'logisticregression__dual': False,\n",
       " 'logisticregression__fit_intercept': True,\n",
       " 'logisticregression__intercept_scaling': 1,\n",
       " 'logisticregression__l1_ratio': None,\n",
       " 'logisticregression__max_iter': 100,\n",
       " 'logisticregression__multi_class': 'auto',\n",
       " 'logisticregression__n_jobs': None,\n",
       " 'logisticregression__penalty': 'l2',\n",
       " 'logisticregression__random_state': None,\n",
       " 'logisticregression__solver': 'liblinear',\n",
       " 'logisticregression__tol': 0.0001,\n",
       " 'logisticregression__verbose': 0,\n",
       " 'logisticregression__warm_start': False}"
      ]
     },
     "execution_count": 151,
     "metadata": {},
     "output_type": "execute_result"
    }
   ],
   "source": [
    "lr.show_params"
   ]
  },
  {
   "cell_type": "code",
   "execution_count": 152,
   "metadata": {},
   "outputs": [],
   "source": [
    "lr_param_matrix = {\n",
    "    'logisticregression__penalty':[\"l1\", \"l2\"],\n",
    "    'logisticregression__C' : [.0001, .001, .01, .1, 1, 10, 100, 1000, 10000]\n",
    "                   }"
   ]
  },
  {
   "cell_type": "code",
   "execution_count": 153,
   "metadata": {},
   "outputs": [
    {
     "name": "stdout",
     "output_type": "stream",
     "text": [
      "Testing Accuracy : 89.57\n",
      "Training Accuracy : 89.14\n",
      "LogisticRegression(solver='liblinear')\n"
     ]
    },
    {
     "data": {
      "text/plain": [
       "{'logisticregression__C': 0.1, 'logisticregression__penalty': 'l1'}"
      ]
     },
     "execution_count": 153,
     "metadata": {},
     "output_type": "execute_result"
    }
   ],
   "source": [
    "lr.run_gs(lr_param_matrix)"
   ]
  },
  {
   "cell_type": "code",
   "execution_count": 154,
   "metadata": {},
   "outputs": [
    {
     "name": "stdout",
     "output_type": "stream",
     "text": [
      "ROC AUC score : 0.8664970178926441\n"
     ]
    },
    {
     "data": {
      "text/plain": [
       "<sklearn.metrics._plot.roc_curve.RocCurveDisplay at 0x22d5c0048e0>"
      ]
     },
     "execution_count": 154,
     "metadata": {},
     "output_type": "execute_result"
    },
    {
     "data": {
      "image/png": "[encoded data removed]",
      "text/plain": [
       "<Figure size 640x480 with 1 Axes>"
      ]
     },
     "metadata": {},
     "output_type": "display_data"
    }
   ],
   "source": [
    "lr.show_roc()"
   ]
  },
  {
   "attachments": {},
   "cell_type": "markdown",
   "metadata": {},
   "source": [
    "- Overall , Our model accuracy suffers due to the target's distribution imbalance\n",
    "- Our model needs to get more `Yes` in our dataset to better predict patterns and learn from it\n",
    "- I think with this dataset we care more about getting as much `True Yes` or True positive than True negative, So we can put more value on `Sensitivity score` or `Recall score` since it penalize the `False negative` predictions or those who would've said `Yes` but we predicted as `No`"
   ]
  }
 ],
 "metadata": {
  "kernelspec": {
   "display_name": "Python (dojo-env)",
   "language": "python",
   "name": "dojo-env"
  },
  "language_info": {
   "codemirror_mode": {
    "name": "ipython",
    "version": 3
   },
   "file_extension": ".py",
   "mimetype": "text/x-python",
   "name": "python",
   "nbconvert_exporter": "python",
   "pygments_lexer": "ipython3",
   "version": "3.9.15"
  },
  "orig_nbformat": 4
 },
 "nbformat": 4,
 "nbformat_minor": 2
}
